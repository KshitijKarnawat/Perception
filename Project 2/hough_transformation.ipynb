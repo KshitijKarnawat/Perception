{
 "cells": [
  {
   "cell_type": "code",
   "execution_count": 114,
   "metadata": {},
   "outputs": [],
   "source": [
    "import cv2 as cv\n",
    "import numpy as np\n",
    "from matplotlib import pyplot as plt"
   ]
  },
  {
   "cell_type": "code",
   "execution_count": 115,
   "metadata": {},
   "outputs": [],
   "source": [
    "video = cv.VideoCapture(\"project2.avi\")\n",
    "\n",
    "# Display Video\n",
    "if (video.isOpened()== False): \n",
    "  print(\"Error opening video stream or file\")\n",
    "\n",
    "points_list = []\n",
    "\n",
    "# Read until video is completed\n",
    "while(video.isOpened()):\n",
    "  # read frame-by-frame\n",
    "  ret, frame = video.read()\n",
    "  if ret == True:\n",
    "    \n",
    "    gray = cv.cvtColor(frame, cv.COLOR_BGR2GRAY)\n",
    "    gaussian_blur = cv.GaussianBlur(gray,(7,7),cv.BORDER_DEFAULT)     \n",
    "    canny = cv.Canny(gaussian_blur,125,200,apertureSize=3)\n",
    "\n",
    "    # Display the resulting frame\n",
    "    cv.imshow('Frame',canny)\n",
    " \n",
    "    # Press Q on keyboard to  exit\n",
    "    if cv.waitKey(25) & 0xFF == ord('q'):\n",
    "      break\n",
    "\n",
    "  else: \n",
    "    break\n",
    "\n",
    "# When everything done, release the video videoture object\n",
    "video.release()\n",
    " \n",
    "# Closes all the frames\n",
    "cv.destroyAllWindows()"
   ]
  },
  {
   "attachments": {},
   "cell_type": "markdown",
   "metadata": {},
   "source": [
    "### Hough Transformation"
   ]
  },
  {
   "cell_type": "code",
   "execution_count": 116,
   "metadata": {},
   "outputs": [],
   "source": [
    "max_dist = np.sqrt(np.square(canny.shape[0])+np.square(canny.shape[1]))\n",
    "theta = np.deg2rad(np.arange(-90.0, 90.0))\n",
    "rho_range = np.arange(-max_dist, max_dist)\n",
    "\n",
    "# Accumulator  (Voting Bin)\n",
    "acc = np.zeros((len(rho_range),len(theta)),dtype=int)\n",
    "\n",
    "y,x = np.nonzero(canny)\n",
    "\n",
    "for i in range(len(x)):\n",
    "    for j in range(len(theta)):\n",
    "        rho = ((x[i] * np.cos(theta[j])) + (y[i] * np.sin(theta[j]))) + max_dist # Adding max_dist to get the minimum distance as zero\n",
    "        # print(rho,\", \",j)\n",
    "        acc[round(rho),j] += 1"
   ]
  },
  {
   "cell_type": "code",
   "execution_count": 117,
   "metadata": {},
   "outputs": [
    {
     "data": {
      "text/plain": [
       "<matplotlib.image.AxesImage at 0x190b2d0e3b0>"
      ]
     },
     "execution_count": 117,
     "metadata": {},
     "output_type": "execute_result"
    },
    {
     "data": {
      "image/png": "[encoded data removed]",
      "text/plain": [
       "<Figure size 1000x1000 with 1 Axes>"
      ]
     },
     "metadata": {},
     "output_type": "display_data"
    }
   ],
   "source": [
    "fig, ax = plt.subplots(1,1,figsize=(10,10))\n",
    "ax.imshow(acc,cmap='jet', extent=[-90,90,-max_dist,max_dist])"
   ]
  },
  {
   "cell_type": "code",
   "execution_count": 118,
   "metadata": {},
   "outputs": [
    {
     "data": {
      "text/plain": [
       "[(3444, 122), (2247, 31), (2462, 29), (3112, 124)]"
      ]
     },
     "execution_count": 118,
     "metadata": {},
     "output_type": "execute_result"
    }
   ],
   "source": [
    "peaks = []\n",
    "acc1 = np.copy(acc)\n",
    "for i in range(4):\n",
    "    idx = np.argmax(acc1) # find argmax in flattened array\n",
    "    acc1_idx = np.unravel_index(idx, acc1.shape) # remap to shape of acc\n",
    "    peaks.append(acc1_idx)\n",
    "\n",
    "    # surpess peaks in neighborhood\n",
    "    idx_y, idx_x = acc1_idx # first separate x, y indexes from argmax(acc)\n",
    "    # if idx_x is too close to the edges choose appropriate values\n",
    "    if (idx_x - (3//2)) < 0: min_x = 0\n",
    "    else: min_x = idx_x - (3//2)\n",
    "    if ((idx_x + (3//2) + 1) > acc.shape[1]): max_x = acc.shape[1]\n",
    "    else: max_x = idx_x + (3//2) + 1\n",
    "\n",
    "    # if idx_y is too close to the edges choose appropriate values\n",
    "    if (idx_y - (3//2)) < 0: min_y = 0\n",
    "    else: min_y = idx_y - (3//2)\n",
    "    if ((idx_y + (3//2) + 1) > acc.shape[0]): max_y = acc.shape[0]\n",
    "    else: max_y = idx_y + (3//2) + 1\n",
    "\n",
    "    # bound each index by the neighborhood size and set all values to 0\n",
    "    for x in range(min_x, max_x):\n",
    "        for y in range(min_y, max_y):\n",
    "            # remove neighborhoods in acc1\n",
    "            acc1[y, x] = 0\n",
    "\n",
    "            # highlight peaks in original acc\n",
    "            if (x == min_x or x == (max_x - 1)):\n",
    "                acc[y, x] = 255\n",
    "            if (y == min_y or y == (max_y - 1)):\n",
    "                acc[y, x] = 255\n",
    "\n",
    "peaks"
   ]
  },
  {
   "cell_type": "code",
   "execution_count": 125,
   "metadata": {},
   "outputs": [],
   "source": [
    "for i in range(len(peaks)):\n",
    "    # reverse engineer lines from rho_range and thetas\n",
    "    rho_peaks = rho_range[peaks[i][0]]\n",
    "    theta_peaks = theta[peaks[i][1]]\n",
    "    a = np.cos(theta_peaks)\n",
    "    b = np.sin(theta_peaks)\n",
    "    x0 = a*rho_peaks\n",
    "    y0 = b*rho_peaks\n",
    "    # these are then scaled so that the lines go off the edges of the image\n",
    "    x1 = int(x0 + 2000*(-b))\n",
    "    y1 = int(y0 + 2000*(a))\n",
    "    x2 = int(x0 - 2000*(-b))\n",
    "    y2 = int(y0 - 2000*(a))\n",
    "\n",
    "    cv.line(frame, (x1, y1), (x2, y2), (0, 255, 0), 2)\n",
    "cv.imshow('frame',frame)\n",
    "cv.waitKey()\n",
    "cv.destroyAllWindows()"
   ]
  }
 ],
 "metadata": {
  "kernelspec": {
   "display_name": "Python 3",
   "language": "python",
   "name": "python3"
  },
  "language_info": {
   "codemirror_mode": {
    "name": "ipython",
    "version": 3
   },
   "file_extension": ".py",
   "mimetype": "text/x-python",
   "name": "python",
   "nbconvert_exporter": "python",
   "pygments_lexer": "ipython3",
   "version": "3.9.13"
  },
  "orig_nbformat": 4
 },
 "nbformat": 4,
 "nbformat_minor": 2
}
