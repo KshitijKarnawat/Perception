{
 "cells": [
  {
   "cell_type": "code",
   "execution_count": 1,
   "metadata": {},
   "outputs": [],
   "source": [
    "import numpy as np\n",
    "import cv2 as cv\n",
    "import glob"
   ]
  },
  {
   "cell_type": "code",
   "execution_count": 9,
   "metadata": {},
   "outputs": [],
   "source": [
    "ground_truth = [] \n",
    "detected_points = [] \n",
    "\n",
    "points = []\n",
    "\n",
    "point = np.array([0,0,0],dtype=np.float32)\n",
    "for i in range(0,6):\n",
    "    point[1] = 0\n",
    "    for j in range(0,9):\n",
    "        points.append([point[0],point[1],point[2]])\n",
    "        point[1] += 21.5\n",
    "    point[0] += 21.5 \n",
    "\n",
    "points = np.array(points, dtype=np.float32)\n",
    "\n",
    "images = glob.glob('Images/*.jpg')\n",
    "\n",
    "test_img = cv.imread(images[0])\n",
    "gray_test = cv.cvtColor(test_img, cv.COLOR_BGR2GRAY)\n",
    "\n",
    "for i in images:\n",
    "    img = cv.imread(i)\n",
    "    gray = cv.cvtColor(img, cv.COLOR_BGR2GRAY)\n",
    "\n",
    "    ret, corners = cv.findChessboardCorners(gray, (9,6), cv.CALIB_CB_ADAPTIVE_THRESH + cv.CALIB_CB_FAST_CHECK + cv.CALIB_CB_NORMALIZE_IMAGE)\n",
    "\n",
    "    if ret == True:\n",
    "        ground_truth.append(points)\n",
    "        corners2 = cv.cornerSubPix(gray,corners, (11,11), (-1,-1), (cv.TERM_CRITERIA_EPS + cv.TERM_CRITERIA_MAX_ITER, 30, 0.001))\n",
    "        detected_points.append(corners2)\n",
    "\n",
    "        cv.drawChessboardCorners(img, (9,6), corners2, ret)\n",
    "        cv.imshow('img', img)\n",
    "        cv.waitKey(1000)\n",
    "\n",
    "cv.destroyAllWindows()"
   ]
  },
  {
   "cell_type": "code",
   "execution_count": 10,
   "metadata": {},
   "outputs": [],
   "source": [
    "ret, intrinsic_matrix, distortion, rotation, translation = cv.calibrateCamera(ground_truth, detected_points, gray_test.shape[::-1], None, None)\n"
   ]
  },
  {
   "cell_type": "code",
   "execution_count": 11,
   "metadata": {},
   "outputs": [
    {
     "name": "stdout",
     "output_type": "stream",
     "text": [
      "Reprojection Error of Image 0 = 0.07290379963579774\n",
      "Reprojection Error of Image 1 = 0.08916218986685945\n",
      "Reprojection Error of Image 2 = 0.1159750678564013\n",
      "Reprojection Error of Image 3 = 0.13817273307939035\n",
      "Reprojection Error of Image 4 = 0.062355126713086954\n",
      "Reprojection Error of Image 5 = 0.07547120291245601\n",
      "Reprojection Error of Image 6 = 0.03201701753001409\n",
      "Reprojection Error of Image 7 = 0.05727789035017854\n",
      "Reprojection Error of Image 8 = 0.07120680804111207\n",
      "Reprojection Error of Image 9 = 0.07488903455136782\n",
      "Reprojection Error of Image 10 = 0.10805784499400187\n",
      "Reprojection Error of Image 11 = 0.12290643223159095\n",
      "Reprojection Error of Image 12 = 0.11822729646816064\n",
      "Mean Reprojection Error = 0.08758634186387827\n"
     ]
    }
   ],
   "source": [
    "mean_error = 0\n",
    "for i in range(len(ground_truth)):\n",
    "    imgpoints2, _ = cv.projectPoints(ground_truth[i], rotation[i], translation[i], intrinsic_matrix, distortion)\n",
    "    error = cv.norm(detected_points[i], imgpoints2, cv.NORM_L2)/len(imgpoints2)\n",
    "    print(\"Reprojection Error of Image\",i,\"=\",error,)\n",
    "    mean_error += error\n",
    "print(\"Mean Reprojection Error =\",mean_error/13)"
   ]
  },
  {
   "cell_type": "code",
   "execution_count": null,
   "metadata": {},
   "outputs": [],
   "source": []
  }
 ],
 "metadata": {
  "kernelspec": {
   "display_name": "Python 3",
   "language": "python",
   "name": "python3"
  },
  "language_info": {
   "codemirror_mode": {
    "name": "ipython",
    "version": 3
   },
   "file_extension": ".py",
   "mimetype": "text/x-python",
   "name": "python",
   "nbconvert_exporter": "python",
   "pygments_lexer": "ipython3",
   "version": "3.10.11"
  },
  "orig_nbformat": 4
 },
 "nbformat": 4,
 "nbformat_minor": 2
}
