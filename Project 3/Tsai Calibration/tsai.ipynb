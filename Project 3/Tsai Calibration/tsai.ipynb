{
 "cells": [
  {
   "cell_type": "code",
   "execution_count": null,
   "metadata": {},
   "outputs": [],
   "source": [
    "import numpy as np"
   ]
  },
  {
   "cell_type": "code",
   "execution_count": null,
   "metadata": {},
   "outputs": [],
   "source": [
    "u= np.array([757,758,758,759,1190,329,1204,340])\n",
    "v= np.array([213,415,686,966,172,1041,850,159])\n",
    "# w= np.ones(u.shape, dtype= 'uint8')\n",
    "\n",
    "X= np.array([0,0,0,0,7,0,7,0])\n",
    "Y= np.array([0,3,7,11,1,11,9,1])\n",
    "Z= np.array([0,0,0,0,0,7,0,7])"
   ]
  },
  {
   "cell_type": "code",
   "execution_count": null,
   "metadata": {},
   "outputs": [],
   "source": [
    "A= np.empty([], dtype= np.int8)\n",
    "for i in range(len(X)):\n",
    "    a= np.array([X[i],Y[i],Z[i],1,0,0,0,0,-u[i]*X[i],-u[i]*Y[i],-u[i]*Z[i],-u[i]])\n",
    "    b= np.array([0,0,0,0,X[i],Y[i],Z[i],1,-v[i]*X[i],-v[i]*Y[i],-v[i]*Z[i],-v[i]])\n",
    "    if i == 0:\n",
    "        A= np.hstack((A,a))\n",
    "        A= np.delete(A,0)\n",
    "        A= np.vstack((A,b))\n",
    "    else:\n",
    "        A= np.vstack((A,a))\n",
    "        A= np.vstack((A,b))"
   ]
  },
  {
   "cell_type": "code",
   "execution_count": null,
   "metadata": {},
   "outputs": [],
   "source": [
    "U,D,V_T= np.linalg.svd(np.dot(A.T,A))\n",
    "P= V_T.T[:,-1]\n",
    "P_matrix= np.reshape(P,(3,4))\n",
    "P_matrix"
   ]
  },
  {
   "cell_type": "code",
   "execution_count": null,
   "metadata": {},
   "outputs": [],
   "source": [
    "Up,Dp,Vp_T= np.linalg.svd(P_matrix)\n",
    "C= Vp_T.T[:,-1]\n",
    "C"
   ]
  },
  {
   "cell_type": "code",
   "execution_count": null,
   "metadata": {},
   "outputs": [],
   "source": [
    "M= P_matrix[:,:3]\n",
    "a1= M[:,0]\n",
    "a2= M[:,1]\n",
    "a3= M[:,2]\n",
    "u1= a1\n",
    "u2= a2 - np.dot(u1,a2)\n",
    "u3= a3 - np.dot(u1,a3) - np.dot(u2,a3)\n",
    "e1= u1/np.linalg.norm(u1)\n",
    "e2= u2/np.linalg.norm(u2)\n",
    "e3= u3/np.linalg.norm(u3)\n",
    "M"
   ]
  },
  {
   "cell_type": "code",
   "execution_count": null,
   "metadata": {},
   "outputs": [],
   "source": [
    "R= np.array([e1,e2,e3]).T\n",
    "K= np.dot(M,np.linalg.inv(R))\n",
    "K"
   ]
  },
  {
   "cell_type": "code",
   "execution_count": null,
   "metadata": {},
   "outputs": [],
   "source": [
    "R"
   ]
  }
 ],
 "metadata": {
  "kernelspec": {
   "display_name": "Python 3",
   "language": "python",
   "name": "python3"
  },
  "language_info": {
   "name": "python",
   "version": "3.10.11"
  },
  "orig_nbformat": 4
 },
 "nbformat": 4,
 "nbformat_minor": 2
}
