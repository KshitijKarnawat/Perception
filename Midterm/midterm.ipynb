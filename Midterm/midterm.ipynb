{
 "cells": [
  {
   "cell_type": "code",
   "execution_count": 1,
   "metadata": {},
   "outputs": [],
   "source": [
    "import cv2 as cv\n",
    "import numpy as np\n",
    "from matplotlib import pyplot as plt\n",
    "import random as rand"
   ]
  },
  {
   "cell_type": "code",
   "execution_count": 39,
   "metadata": {},
   "outputs": [],
   "source": [
    "# Question 2\n",
    "\n",
    "# Read Video\n",
    "video = cv.VideoCapture(\"ball.mov\")\n",
    "\n",
    "# Display Video\n",
    "if (video.isOpened()== False): \n",
    "  print(\"Error opening video stream or file\")\n",
    "\n",
    "# Read until video is completed\n",
    "while(video.isOpened()):\n",
    "  # read frame-by-frame\n",
    "  ret, frame = video.read()\n",
    "  if ret == True:\n",
    "\n",
    "    gray = cv.cvtColor(frame, cv.COLOR_BGR2GRAY)\n",
    "\n",
    "    blur = cv.GaussianBlur(gray,(3,3),cv.BORDER_DEFAULT)\n",
    "\n",
    "    circle = cv.HoughCircles(blur, cv.HOUGH_GRADIENT,1,20,param1=80,param2=20,minRadius=9,maxRadius=13) #plus minus 2 of radius to get better results\n",
    "\n",
    "    if circle is not None:\n",
    "        circle = np.int32(circle)\n",
    "        for c in circle[0,:]:\n",
    "            cv.circle(frame,(c[0],c[1]),c[2],(0,0,0),3)\n",
    "\n",
    "\n",
    "    cv.imshow('Frame',frame)\n",
    "\n",
    " \n",
    "    # Press Q on keyboard to  exit\n",
    "    if cv.waitKey(25) & 0xFF == ord('q'):\n",
    "      break\n",
    "\n",
    "  else: \n",
    "    break\n",
    "\n",
    "# When everything done, release the video videoture object\n",
    "video.release()\n",
    " \n",
    "# Closes all the frames\n",
    "cv.destroyAllWindows()"
   ]
  },
  {
   "attachments": {},
   "cell_type": "markdown",
   "metadata": {},
   "source": [
    "# PRroblem 3"
   ]
  },
  {
   "cell_type": "code",
   "execution_count": 158,
   "metadata": {},
   "outputs": [],
   "source": [
    "def solution3():\n",
    "  # Read and resize the image\n",
    "  tracks = cv.imread(\"train_track.jpg\")\n",
    "  tracks = cv.resize(tracks, (int(tracks.shape[1] * 0.3), int(tracks.shape[0] * 0.3)), interpolation=cv.INTER_AREA)\n",
    "  \n",
    "  # Filter the edges\n",
    "  tracks_edges = cv.Canny(tracks, 625, 630)\n",
    "\n",
    "  # Hough Transform\n",
    "  lines = cv.HoughLines(tracks_edges, 1, np.pi/180, 225, None, 0, 0)\n",
    "  \n",
    "  # Extract rhos and thetas returned from HoughLines function to a list\n",
    "  sorted_lines_polar = []\n",
    "  if lines is not None:\n",
    "    for i in range(0, len(lines)):\n",
    "      sorted_lines_polar.append([lines[i][0][0], lines[i][0][1]])\n",
    "\n",
    "  # Sort the list of lines in reverse order\n",
    "  sorted_lines_polar.sort(reverse=True)\n",
    "\n",
    "  # Pick two appropriate lines from the list\n",
    "  for line in sorted_lines_polar:\n",
    "    index = sorted_lines_polar.index(line)\n",
    "    if index > 0 and abs(line[0] - sorted_lines_polar[index-1][0]) < 30:\n",
    "      if line[0] > 0:\n",
    "        sorted_lines_polar.remove(min(line, sorted_lines_polar[index-1]))\n",
    "      if line[0] < 0:\n",
    "        sorted_lines_polar.remove(max(line, sorted_lines_polar[index-1]))\n",
    "  \n",
    "  # Convert lines from polar form to two-point form for drawing in OpenCV\n",
    "  def polar2twopoints(line):\n",
    "    d = line[0]\n",
    "    theta = line[1]\n",
    "    cos_theta = np.cos(theta)\n",
    "    sin_theta = np.sin(theta)\n",
    "    x = d*cos_theta\n",
    "    y = d*sin_theta\n",
    "    x1 = int(x + 1500*(-sin_theta))\n",
    "    y1 = int(y + 1500*(cos_theta))\n",
    "    x2 = int(x - 1500*(-sin_theta))\n",
    "    y2 = int(y - 1500*(cos_theta))\n",
    "    return [x1, y1, x2, y2]\n",
    "  \n",
    "  sorted_lines_cartesian = []\n",
    "  for line in sorted_lines_polar:\n",
    "    x1, y1, x2, y2 = polar2twopoints(line)\n",
    "    sorted_lines_cartesian.append([[x1, y1], [x2, y2]])\n",
    "    cv.line(tracks, (x1, y1), (x2, y2), (0, 0, 255), 2)\n",
    "\n",
    "  # Find the line equations and intersection from two-point form\n",
    "  def getcoeffsandintersect(two_lines):\n",
    "    coeffs_a_b = []\n",
    "    coeffs_c = []\n",
    "    for points in two_lines:\n",
    "      x1, y1 = points[0]\n",
    "      x2, y2 = points[1]\n",
    "      a = round((y2 - y1)/(x2 - x1), 2)\n",
    "      b = -1\n",
    "      coeffs_a_b.append([a, b])\n",
    "      c = round(a*x1 - y1, 2)\n",
    "      coeffs_c.append([c])\n",
    "    xc, yc = np.ravel(np.linalg.solve(coeffs_a_b, coeffs_c))\n",
    "    return coeffs_a_b, coeffs_c, (round(xc), round(yc))\n",
    "  \n",
    "  A, B, intersection_point = getcoeffsandintersect(sorted_lines_cartesian)\n",
    "  a1, b1 = A[0]\n",
    "  c1 = B[0][0]\n",
    "  a2, b2 = A[1]\n",
    "  c2 = B[1][0]\n",
    "\n",
    "  \n",
    "  i_upper_left_corner_y = i_upper_right_corner_y = intersection_point[1] + 175\n",
    "\n",
    "  i_upper_left_corner_x = round((c1 - b1*i_upper_left_corner_y)/a1)\n",
    "  i_upper_right_corner_x = round((c2 - b2*i_upper_right_corner_y)/a2)\n",
    "\n",
    "  i_upper_left_corner = (i_upper_left_corner_x, i_upper_left_corner_y)\n",
    "  i_upper_right_corner = (i_upper_right_corner_x, i_upper_right_corner_y)\n",
    "\n",
    "  i_lower_left_corner_y = i_lower_right_corner_y = tracks.shape[0]\n",
    "\n",
    "  i_lower_left_corner_x = round((c1 - b1*i_lower_left_corner_y)/a1)\n",
    "  i_lower_right_corner_x = round((c2 - b2*i_lower_right_corner_y)/a2)\n",
    "\n",
    "  i_lower_left_corner = (i_lower_left_corner_x, i_lower_left_corner_y)\n",
    "  i_lower_right_corner = (i_lower_right_corner_x, i_lower_right_corner_y)\n",
    "\n",
    "  i_corners = np.float32([i_upper_left_corner, i_lower_left_corner, i_lower_right_corner, i_upper_right_corner])\n",
    "\n",
    "  # Draw the corners\n",
    "  cv.circle(tracks, intersection_point, 3, (0, 255, 0), -1)\n",
    "  cv.circle(tracks, i_upper_left_corner, 3, (255, 128, 0), -1)\n",
    "  cv.circle(tracks, i_upper_right_corner, 3, (0, 128, 255), -1)\n",
    "  cv.circle(tracks, i_lower_left_corner, 3, (255, 128, 0), -1)\n",
    "  cv.circle(tracks, i_lower_right_corner, 3, (0, 128, 255), -1)\n",
    "\n",
    "  o_width = i_lower_right_corner_x - i_lower_left_corner_x\n",
    "  o_height = round((np.sqrt((i_upper_right_corner_x - i_lower_right_corner_x)**2 + (i_upper_right_corner_y - i_lower_right_corner_y)**2))*(1/scale))\n",
    "  o_size = (o_width, o_height)\n",
    "  o_corners = np.float32([[0, 0], [0, o_size[1]-1], [o_size[0]-1, o_size[1]-1], [o_size[0]-1, 0]])\n",
    "\n",
    "  matrix = cv.getPerspectiveTransform(i_corners, o_corners)\n",
    "\n",
    "  tracks_topview = cv.warpPerspective(tracks, matrix, o_size, flags=cv.INTER_LINEAR)\n",
    "  \n",
    "\n",
    "  cv.imshow('Tracks', tracks)\n",
    "  cv.imshow('Top view', tracks_topview)\n",
    "  \n",
    "  # Close windows upon pressing 'q'\n",
    "  while True:\n",
    "    cv.waitKey(0)\n",
    "    cv.destroyAllWindows()\n",
    "    break"
   ]
  },
  {
   "cell_type": "code",
   "execution_count": 166,
   "metadata": {},
   "outputs": [],
   "source": [
    "solution3()"
   ]
  },
  {
   "attachments": {},
   "cell_type": "markdown",
   "metadata": {},
   "source": [
    "# Problem 4\n"
   ]
  },
  {
   "cell_type": "code",
   "execution_count": 140,
   "metadata": {},
   "outputs": [],
   "source": [
    "baloon = cv.imread('hotairbaloon.jpg')\n",
    "baloon = cv.resize(baloon, (int(baloon.shape[1] * 0.3), int(baloon.shape[0] * 0.3)), interpolation=cv.INTER_AREA)\n",
    "gray_img= cv.cvtColor(baloon,cv.COLOR_BGR2GRAY)\n",
    "blur_img= cv.GaussianBlur(gray_img,(7,7),0)\n",
    "canny_img = cv.Canny(blur_img,150,200)\n",
    "kernel = np.ones((1, 1), np.uint8)\n",
    "erode = cv.erode(canny_img, kernel, iterations=1)\n",
    "dilate = cv.dilate(erode, kernel, iterations=1)\n",
    "contours,_= cv.findContours(dilate, cv.RETR_TREE, cv.CHAIN_APPROX_SIMPLE)\n",
    "cv.drawContours(image=baloon, contours=contours, contourIdx=-1, color=(0, 255, 0), thickness=2, lineType=cv.LINE_AA)\n",
    "cv.imshow(\"baloon\",baloon)\n",
    "cv.waitKey()\n",
    "cv.destroyAllWindows()"
   ]
  },
  {
   "cell_type": "code",
   "execution_count": 141,
   "metadata": {},
   "outputs": [],
   "source": [
    "boundRect = []\n",
    "contours_poly = []\n",
    "for i, c in enumerate(contours):\n",
    "    contours_poly.append(cv.approxPolyDP(c, 1, True))\n",
    "    boundRect.append(cv.boundingRect(contours_poly[i]))"
   ]
  },
  {
   "cell_type": "code",
   "execution_count": 142,
   "metadata": {},
   "outputs": [],
   "source": [
    "baloons_bound= []\n",
    "for i in range(len(boundRect)):\n",
    "    if boundRect[i][2]>50 and boundRect[i][3]>60:\n",
    "        baloons_bound.append(boundRect[i])\n"
   ]
  },
  {
   "cell_type": "code",
   "execution_count": 143,
   "metadata": {},
   "outputs": [],
   "source": [
    "drawing = np.zeros((canny_img.shape[0], canny_img.shape[1], 3), dtype=np.uint8)\n",
    "for i in range(len(baloons_bound)):\n",
    "    color = (rand.randint(0,256), rand.randint(0,256), rand.randint(0,256))\n",
    "    cv.rectangle(baloon, (int(baloons_bound[i][0]), int(baloons_bound[i][1])),(int(baloons_bound[i][0]+baloons_bound[i][2]), int(baloons_bound[i][1]+baloons_bound[i][3])), color, 2)\n",
    "cv.imshow(\"count\",baloon)\n",
    "cv.waitKey()\n",
    "cv.destroyAllWindows()"
   ]
  },
  {
   "cell_type": "code",
   "execution_count": 144,
   "metadata": {},
   "outputs": [
    {
     "data": {
      "text/plain": [
       "20"
      ]
     },
     "execution_count": 144,
     "metadata": {},
     "output_type": "execute_result"
    }
   ],
   "source": [
    "len(baloons_bound)"
   ]
  },
  {
   "cell_type": "code",
   "execution_count": null,
   "metadata": {},
   "outputs": [],
   "source": []
  }
 ],
 "metadata": {
  "kernelspec": {
   "display_name": "Python 3",
   "language": "python",
   "name": "python3"
  },
  "language_info": {
   "codemirror_mode": {
    "name": "ipython",
    "version": 3
   },
   "file_extension": ".py",
   "mimetype": "text/x-python",
   "name": "python",
   "nbconvert_exporter": "python",
   "pygments_lexer": "ipython3",
   "version": "3.10.10"
  },
  "orig_nbformat": 4
 },
 "nbformat": 4,
 "nbformat_minor": 2
}
